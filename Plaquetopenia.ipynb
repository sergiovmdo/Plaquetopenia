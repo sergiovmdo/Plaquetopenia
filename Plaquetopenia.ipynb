{
  "cells": [
    {
      "cell_type": "code",
      "execution_count": 9,
      "metadata": {
        "id": "eQ0j9ZS9CEnm"
      },
      "outputs": [],
      "source": [
        "import matplotlib.pyplot as plt\n",
        "import pandas as pd\n",
        "import numpy as np\n",
        "from sklearn.metrics import accuracy_score, confusion_matrix, roc_auc_score, roc_curve\n",
        "from sklearn.metrics import accuracy_score, recall_score,precision_score, f1_score, confusion_matrix, roc_auc_score\n",
        "from sklearn import metrics\n",
        "from operator import itemgetter\n",
        "from sklearn.ensemble import RandomForestClassifier\n",
        "import seaborn as sns\n",
        "\n",
        "from sklearn.model_selection import train_test_split\n",
        "\n",
        "from sklearn.ensemble import RandomForestClassifier\n",
        "from sklearn.linear_model import LogisticRegression\n",
        "from sklearn import preprocessing\n",
        "from imblearn.combine import SMOTETomek\n",
        "from sklearn.metrics import confusion_matrix\n",
        "\n",
        "import warnings\n",
        "warnings.filterwarnings('ignore')"
      ]
    },
    {
      "cell_type": "markdown",
      "source": [
        "0"
      ],
      "metadata": {
        "id": "IV5V049LQRhH"
      }
    },
    {
      "cell_type": "markdown",
      "metadata": {
        "id": "yFI8d7xQCEnp"
      },
      "source": [
        "## Auxiliar methods"
      ]
    },
    {
      "cell_type": "code",
      "execution_count": 10,
      "metadata": {
        "id": "_ew-IMfpCEnq"
      },
      "outputs": [],
      "source": [
        "def compute_avg_scores(X, y, n, model):\n",
        "  \"\"\"\n",
        "  Method that computes the average scores for a given dataset and \n",
        "  predictive model.\n",
        "\n",
        "  ...\n",
        "\n",
        "  Attributes\n",
        "  ----------\n",
        "  X: pandas dataframe\n",
        "     Contains the data used for training the model\n",
        "  \n",
        "  y: int array\n",
        "     Contains the target variable\n",
        "  \n",
        "  n: int\n",
        "     Number of times that we want the model to be run\n",
        "\n",
        "  model: Predictive model\n",
        "         Instance of the predictive model that we want to use\n",
        "\n",
        "\n",
        "  ...\n",
        "\n",
        "  Returns\n",
        "  -------\n",
        "  Returns the feature importances map\n",
        "  \"\"\"\n",
        "\n",
        "  if not isinstance(model, LogisticRegression) or isinstance(model, RandomForestClassifier):\n",
        "    raise ValueError(\"This method only accepts Logistic Regression and Random Forest Classifier\")\n",
        "\n",
        "  seeds = np.random.randint(1, 10001, n)\n",
        "\n",
        "  acc = 0.0\n",
        "  pr = 0.0\n",
        "  recall = 0.0\n",
        "  f1 = 0.0\n",
        "  auc = 0.0\n",
        "  spec = 0.0\n",
        "\n",
        "  # Initialize the map used for storing feature importances\n",
        "  importance_map = dict.fromkeys(X.columns, 0.0)\n",
        "\n",
        "  for seed in seeds:\n",
        "      X_train, X_test, y_train, y_test = train_test_split(X, y, test_size=0.4, random_state=seed)\n",
        "      model.fit(X_train, y_train)\n",
        "      y_pred = model.predict(X_test)\n",
        "\n",
        "      # Scores computation\n",
        "      acc += accuracy_score(y_test, y_pred)\n",
        "      pr += precision_score(y_test, y_pred)\n",
        "      recall += recall_score(y_test, y_pred)\n",
        "      f1 += f1_score(y_test, y_pred)\n",
        "      auc += roc_auc_score(y_test, y_pred)\n",
        "\n",
        "      cm = confusion_matrix(y_test, y_pred)\n",
        "      spec += cm[0,0]/(cm[0,0]+cm[0,1])\n",
        "\n",
        "      columns = X.columns\n",
        "      \n",
        "      # Depending on the model we need to take importances from one way or another.\n",
        "      if isinstance(model, LogisticRegression):\n",
        "        importance = model.coef_\n",
        "        for i,v in enumerate(importance[0]):        \n",
        "          importance_map[columns[i]] += v\n",
        "\n",
        "      elif isinstance(model, RandomForestClassifier):\n",
        "        importance = model.feature_importances_\n",
        "        for i,v in enumerate(importance):        \n",
        "          importance_map[columns[i]] += v\n",
        "  \n",
        "  # After running n times the model, we print the averaged scores\n",
        "  print('Scores for ' + str(n) + ' runs:')\n",
        "  print('Accuracy score: ' + str(acc/n))\n",
        "  print('Precision score: ' + str(pr/n))\n",
        "  print('Recall score: ' + str(recall/n))\n",
        "  print('Specificity score: ' + str(spec/n))\n",
        "  print('F1 score: ' + str(f1/n))\n",
        "  print('AUC score: ' + str(auc/n))\n",
        "\n",
        "  return {k: v / n for k, v in importance_map.items()}"
      ]
    },
    {
      "cell_type": "markdown",
      "metadata": {
        "id": "HvHeNb4QCEnt"
      },
      "source": [
        "## Predictions"
      ]
    },
    {
      "cell_type": "markdown",
      "source": [
        "Variables vector will store the variables that will be used from the original dataset in order to train the predictive model."
      ],
      "metadata": {
        "id": "sICTrnZDkO0s"
      }
    },
    {
      "cell_type": "code",
      "source": [
        "variables = ['EVER titulos altos B2GPP', 'EVER titulos altos ACA 0 no 1 si','Plaquetopenia 0 no 1 si', 'úlceras orales 0 no 1 si', \n",
        "                 'Artritis 0 no 1 si', 'C4 bajo 0 no 1 si', 'Raynaud 0 no 1 si', 'anemia hemolítica 0 no 1 si', 'CH50 bajo 0 no 1 si']"
      ],
      "metadata": {
        "id": "QREogvGKN4Tg"
      },
      "execution_count": 11,
      "outputs": []
    },
    {
      "cell_type": "code",
      "source": [
        "# We read the dataset and take the aforementioned variables\n",
        "merged_df = pd.read_excel(r'/content/Base LES- Plaquetopenia_sergio modelo 2.0.xlsx')\n",
        "merged_df = merged_df[variables]"
      ],
      "metadata": {
        "id": "rwQJaVxDkbzz"
      },
      "execution_count": 12,
      "outputs": []
    },
    {
      "cell_type": "markdown",
      "source": [
        "We remove human mistakes coming from the data collection part and remove all the NAs"
      ],
      "metadata": {
        "id": "3mL4d8qakn28"
      }
    },
    {
      "cell_type": "code",
      "source": [
        "for c in merged_df.columns:\n",
        "  merged_df[c].replace(' ', np.nan, inplace=True)\n",
        "  merged_df[c].replace('o', 0, inplace=True)\n",
        "  merged_df[c].replace('aborto 2000', 0, inplace=True)\n",
        "\n",
        "merged_df = merged_df.dropna()\n"
      ],
      "metadata": {
        "id": "BMNvxo4Pkmqr"
      },
      "execution_count": 13,
      "outputs": []
    },
    {
      "cell_type": "markdown",
      "source": [
        "Once we have our data prepared to be trained, we split the dataset in two, one part will contain the training variables and the other one will be just one column containing the target variable."
      ],
      "metadata": {
        "id": "z5IywHnEkzhk"
      }
    },
    {
      "cell_type": "code",
      "source": [
        "X = merged_df.drop('Plaquetopenia 0 no 1 si', axis=1)\n",
        "\n",
        "y = merged_df['Plaquetopenia 0 no 1 si']"
      ],
      "metadata": {
        "id": "bA7QTV9jky8r"
      },
      "execution_count": 14,
      "outputs": []
    },
    {
      "cell_type": "markdown",
      "source": [
        "Finally, we balance both classes using SMOTETomek"
      ],
      "metadata": {
        "id": "eCaajhlZlBOs"
      }
    },
    {
      "cell_type": "code",
      "source": [
        "\n",
        "\n",
        "for c in X.columns:\n",
        "  X[c] = X[c].astype('int')\n",
        "\n",
        "smt = SMOTETomek(random_state=42)\n",
        "X, y = smt.fit_resample(X, y)"
      ],
      "metadata": {
        "id": "sAiFlFN6IJtR"
      },
      "execution_count": 15,
      "outputs": []
    },
    {
      "cell_type": "markdown",
      "source": [
        "## Results"
      ],
      "metadata": {
        "id": "l0qU-28plHu3"
      }
    },
    {
      "cell_type": "code",
      "source": [
        "compute_avg_scores(X, y, 100, LogisticRegression(random_state=0, max_iter=300))"
      ],
      "metadata": {
        "id": "j34ZOi5fMtJ8"
      },
      "execution_count": null,
      "outputs": []
    },
    {
      "cell_type": "code",
      "source": [
        "compute_avg_scores(X, y, 100, RandomForestClassifier(max_depth=7, random_state=0))"
      ],
      "metadata": {
        "id": "GpPv9ToVSX25"
      },
      "execution_count": null,
      "outputs": []
    },
    {
      "cell_type": "markdown",
      "source": [
        "## Plots"
      ],
      "metadata": {
        "id": "mhdgYYphlMIi"
      }
    },
    {
      "cell_type": "code",
      "source": [
        "import matplotlib.pyplot as plt\n",
        "from sklearn import datasets, metrics, model_selection\n",
        "\n",
        "X_train, X_test, y_train, y_test = model_selection.train_test_split(X, y, train_size = .7)\n",
        "\n",
        "clf = RandomForestClassifier(max_depth=5, random_state=0).fit(X_train, y_train)\n",
        "\n",
        "metrics.plot_roc_curve(clf, X_test, y_test)\n",
        "\n",
        "plt.plot([0, 1], [0, 1], linestyle='--', color='red')\n",
        "plt.xlabel('1 - Specificity', fontsize=16)\n",
        "plt.ylabel('Sensibility', fontsize=16)\n",
        "plt.show() "
      ],
      "metadata": {
        "colab": {
          "base_uri": "https://localhost:8080/",
          "height": 284
        },
        "id": "ZzF9OAudFfkl",
        "outputId": "807bdf03-d20d-47a8-a5f2-66af37cd971b"
      },
      "execution_count": null,
      "outputs": [
        {
          "output_type": "display_data",
          "data": {
            "text/plain": [
              "<Figure size 432x288 with 1 Axes>"
            ],
            "image/png": "[encoded data removed]"
          },
          "metadata": {
            "needs_background": "light"
          }
        }
      ]
    }
  ],
  "metadata": {
    "kernelspec": {
      "display_name": "Python 3.8.10 64-bit",
      "language": "python",
      "name": "python3"
    },
    "language_info": {
      "codemirror_mode": {
        "name": "ipython",
        "version": 3
      },
      "file_extension": ".py",
      "mimetype": "text/x-python",
      "name": "python",
      "nbconvert_exporter": "python",
      "pygments_lexer": "ipython3",
      "version": "3.8.10"
    },
    "orig_nbformat": 4,
    "vscode": {
      "interpreter": {
        "hash": "335fdc0b46e0acee9bcd19380c8561a470db9b17f3e52d1a0fdf8c04bbdaee4f"
      }
    },
    "colab": {
      "provenance": []
    }
  },
  "nbformat": 4,
  "nbformat_minor": 0
}